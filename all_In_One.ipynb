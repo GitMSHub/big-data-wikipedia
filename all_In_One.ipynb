{
 "cells": [
  {
   "cell_type": "code",
   "execution_count": 1,
   "metadata": {},
   "outputs": [],
   "source": [
    "import findspark\n",
    "findspark.init()\n",
    "\n",
    "import pyspark # only run after findspark.init()\n",
    "from pyspark.sql import SparkSession\n",
    "import re\n",
    "import nltk\n",
    "from nltk.stem.porter import PorterStemmer\n",
    "from nltk.corpus import stopwords\n",
    "from nltk.tokenize import RegexpTokenizer\n",
    "import wikipedia\n",
    "import warnings\n",
    "warnings.filterwarnings(\"ignore\", category=DeprecationWarning)\n",
    "from pyspark.mllib.linalg import Vector, Vectors\n",
    "from pyspark.ml.feature import CountVectorizer, IDF, RegexTokenizer, StopWordsRemover, Normalizer\n",
    "from pyspark.sql import SQLContext\n",
    "from pyspark.ml.clustering import LDA\n",
    "from pyspark.ml import Pipeline\n",
    "\n",
    "spark = SparkSession.builder.getOrCreate()\n",
    "sc = spark.sparkContext\n",
    "sqlContext = SQLContext(sc)\n",
    "\n",
    "def get_title(content):\n",
    "    # Remove any leading or lagging space if present \n",
    "    content = content.strip()\n",
    "    title = ''\n",
    "    try:\n",
    "        if(content != ''):\n",
    "            # Split the content on the basis of new line\n",
    "            arr = content.split(\"\\n\",2)\n",
    "            # Second line is the title\n",
    "            title = arr[1]\n",
    "            # Rest is the actual content\n",
    "            actual_content = arr[2]\n",
    "    except:\n",
    "        title = 'error'\n",
    "    return title\n",
    "\n",
    "def get_content(content):\n",
    "    # Remove any leading or lagging space if present \n",
    "    content = content.strip()\n",
    "    actual_content = ''\n",
    "    try:\n",
    "        if(content != ''):\n",
    "            # Split the content on the basis of new line\n",
    "            arr = content.split(\"\\n\",2)\n",
    "            # Second line is the title\n",
    "            title = arr[1]\n",
    "            # Rest is the actual content\n",
    "            actual_content = arr[2]\n",
    "    except:\n",
    "        actual_content = 'error'\n",
    "    return actual_content\n",
    "\n",
    "def clean(article):\n",
    "    title = article[0]\n",
    "    document = article[1]\n",
    "    tokens = RegexpTokenizer(r'\\w+').tokenize(document.lower())\n",
    "    tokens_clean = [token for token in tokens if token not in stopwords.words('english')]\n",
    "    tokens_stemmed = [PorterStemmer().stem(token) for token in tokens_clean]\n",
    "    return (title, tokens_stemmed)\n",
    "\n",
    "def splitByDoc(textfile):\n",
    "    return list(filter(lambda x: x != \"\\n\", textfile[1].split(\"</doc>\")))"
   ]
  },
  {
   "cell_type": "code",
   "execution_count": 2,
   "metadata": {},
   "outputs": [
    {
     "data": {
      "text/html": [
       "\n",
       "            <div>\n",
       "                <p><b>SparkSession - in-memory</b></p>\n",
       "                \n",
       "        <div>\n",
       "            <p><b>SparkContext</b></p>\n",
       "\n",
       "            <p><a href=\"http://Alina-PC:4040\">Spark UI</a></p>\n",
       "\n",
       "            <dl>\n",
       "              <dt>Version</dt>\n",
       "                <dd><code>v3.0.1</code></dd>\n",
       "              <dt>Master</dt>\n",
       "                <dd><code>local[*]</code></dd>\n",
       "              <dt>AppName</dt>\n",
       "                <dd><code>pyspark-shell</code></dd>\n",
       "            </dl>\n",
       "        </div>\n",
       "        \n",
       "            </div>\n",
       "        "
      ],
      "text/plain": [
       "<pyspark.sql.session.SparkSession at 0x11492332ac0>"
      ]
     },
     "execution_count": 2,
     "metadata": {},
     "output_type": "execute_result"
    }
   ],
   "source": [
    "spark"
   ]
  },
  {
   "cell_type": "code",
   "execution_count": 3,
   "metadata": {},
   "outputs": [],
   "source": [
    "data = sc.wholeTextFiles(\"C:/Users/Alina/Big Data/Wikipedia Exports/cars/*/*\")\n",
    "#data = sc.wholeTextFiles(\"C:/Users/Alina/Big Data/Wikipedia Exports/42_articles/*/*\")\n",
    "#data = sc.wholeTextFiles(\"C:/Users/Alina/Big Data/Wikipedia Exports/metadaten_test1/*/*\")\n",
    "\n",
    "pagesRaw = data.flatMap(splitByDoc)\n",
    "pagesTitleContent = pagesRaw.map(lambda x : (get_title(x),get_content(x)))\n",
    "\n",
    "#RDD to DataFrame\n",
    "dfPagesTitleContent = sqlContext.createDataFrame(pagesTitleContent, [\"title\",'content'])\n",
    "\n",
    "regexTokenizer = RegexTokenizer(inputCol=\"content\", outputCol=\"list_of_words_raw\", pattern=\"\\\\W\")\n",
    "#tokenizedWords = regexTokenizer.transform(dfPagesTitleContent)\n",
    "\n",
    "stopWordsRemover = StopWordsRemover(inputCol=\"list_of_words_raw\", outputCol=\"list_of_words\")\n",
    "#cleanedWords = stopWordsRemover.transform(tokenizedWords)\n",
    "\n",
    "countVectorizer = CountVectorizer(inputCol=\"list_of_words\", outputCol=\"features\")\n",
    "#vectorizedWords = countVectorizer.fit(cleanedWords).transform(cleanedWords)\n",
    "\n",
    "lda = LDA(k=3, maxIter=15)\n",
    "#model = lda.fit(vectorizedWords)\n",
    "\n",
    "pipeline = Pipeline(stages=[regexTokenizer, stopWordsRemover, countVectorizer, lda])\n",
    "\n",
    "model = pipeline.fit(dfPagesTitleContent)"
   ]
  },
  {
   "cell_type": "code",
   "execution_count": 4,
   "metadata": {},
   "outputs": [
    {
     "data": {
      "text/plain": [
       "[RegexTokenizer_d259efcaf7e0,\n",
       " StopWordsRemover_47566fa96056,\n",
       " CountVectorizerModel: uid=CountVectorizer_6e99e00036b6, vocabularySize=8371,\n",
       " LocalLDAModel: uid=LDA_181d79937efc, k=3, numFeatures=8371]"
      ]
     },
     "execution_count": 4,
     "metadata": {},
     "output_type": "execute_result"
    }
   ],
   "source": [
    "model.stages"
   ]
  },
  {
   "cell_type": "code",
   "execution_count": 5,
   "metadata": {},
   "outputs": [
    {
     "data": {
      "text/plain": [
       "['Audi',\n",
       " 'BMW',\n",
       " 'Opel',\n",
       " 'Mercedes-Benz',\n",
       " 'Human',\n",
       " 'Nature',\n",
       " 'Chair',\n",
       " 'Table',\n",
       " 'Plant',\n",
       " 'Window',\n",
       " 'Notebook',\n",
       " 'BYD',\n",
       " 'Volvo',\n",
       " 'Škoda Auto']"
      ]
     },
     "execution_count": 5,
     "metadata": {},
     "output_type": "execute_result"
    }
   ],
   "source": [
    "cleanedPagesTitles = pagesTitleContent.map(lambda x: x[0])\n",
    "cleanedPagesTitles.collect()\n",
    "#cleanedPagesTitles.count()"
   ]
  },
  {
   "cell_type": "code",
   "execution_count": 6,
   "metadata": {},
   "outputs": [],
   "source": [
    "#verbessert das Model\n",
    "\n",
    "# IDF\n",
    "#idf = IDF(inputCol=\"raw_features\", outputCol=\"features\")\n",
    "#idfModel = idf.fit(result_cv)\n",
    "#result_tfidf = idfModel.transform(result_cv) \n",
    "#result_tfidf.select(\"features\").take(1)"
   ]
  },
  {
   "cell_type": "code",
   "execution_count": 7,
   "metadata": {},
   "outputs": [
    {
     "data": {
      "text/plain": [
       "[['koda',\n",
       "  'window',\n",
       "  'windows',\n",
       "  'glass',\n",
       "  'used',\n",
       "  'humans',\n",
       "  'human',\n",
       "  'company',\n",
       "  'new',\n",
       "  'production'],\n",
       " ['humans',\n",
       "  'human',\n",
       "  'opel',\n",
       "  'koda',\n",
       "  'years',\n",
       "  'also',\n",
       "  '000',\n",
       "  'first',\n",
       "  'species',\n",
       "  'volvo'],\n",
       " ['tag',\n",
       "  'hydrocarbon',\n",
       "  'herbaceous',\n",
       "  'cheaper',\n",
       "  'tropical',\n",
       "  'popemobile',\n",
       "  'tax',\n",
       "  'benefit',\n",
       "  'gtc',\n",
       "  'honours']]"
      ]
     },
     "execution_count": 7,
     "metadata": {},
     "output_type": "execute_result"
    }
   ],
   "source": [
    "vocab = model.stages[2].vocabulary\n",
    "topics = model.stages[3].describeTopics()\n",
    "topicsRdd = topics.rdd\n",
    "topics_words = topicsRdd.map(lambda row: row['termIndices']).map(lambda idx_list: [vocab[idx] for idx in idx_list]).collect()\n",
    "topics_words"
   ]
  },
  {
   "cell_type": "code",
   "execution_count": 8,
   "metadata": {},
   "outputs": [],
   "source": [
    "article_title = \"Lamborghini\"\n",
    "#article_title = \"Car\"\n",
    "article_content_test = clean([article_title, wikipedia.page(article_title).content])[1]"
   ]
  },
  {
   "cell_type": "code",
   "execution_count": 9,
   "metadata": {},
   "outputs": [],
   "source": [
    "article_content_test_rdd = sc.parallelize([article_content_test]).zipWithIndex()\n",
    "df_txts_test  = sqlContext.createDataFrame(article_content_test_rdd, [\"list_of_words\",'index'])\n",
    "\n",
    "cv_test = CountVectorizer(inputCol=\"list_of_words\", outputCol=\"features\")\n",
    "cvmodel_test = cv_test.fit(df_txts_test)\n",
    "result_cv_test = cvmodel_test.transform(df_txts_test)"
   ]
  },
  {
   "cell_type": "code",
   "execution_count": 10,
   "metadata": {},
   "outputs": [
    {
     "name": "stdout",
     "output_type": "stream",
     "text": [
      "+--------------------+-----+--------------------+\n",
      "|       list_of_words|index|            features|\n",
      "+--------------------+-----+--------------------+\n",
      "|[automobili, lamb...|    0|(1075,[0,1,2,3,4,...|\n",
      "+--------------------+-----+--------------------+\n",
      "\n"
     ]
    }
   ],
   "source": [
    "result_cv_test.show()"
   ]
  },
  {
   "cell_type": "code",
   "execution_count": 11,
   "metadata": {},
   "outputs": [
    {
     "name": "stdout",
     "output_type": "stream",
     "text": [
      "The lower bound on the log likelihood of the entire corpus: -32270.573814533127\n",
      "The upper bound on perplexity: 11.051566374840112\n"
     ]
    }
   ],
   "source": [
    "ll = model.stages[3].logLikelihood(result_cv_test)\n",
    "lp = model.stages[3].logPerplexity(result_cv_test)\n",
    "print(\"The lower bound on the log likelihood of the entire corpus: \" + str(ll))\n",
    "print(\"The upper bound on perplexity: \" + str(lp))"
   ]
  },
  {
   "cell_type": "code",
   "execution_count": null,
   "metadata": {},
   "outputs": [],
   "source": []
  }
 ],
 "metadata": {
  "kernelspec": {
   "display_name": "Python 3",
   "language": "python",
   "name": "python3"
  },
  "language_info": {
   "codemirror_mode": {
    "name": "ipython",
    "version": 3
   },
   "file_extension": ".py",
   "mimetype": "text/x-python",
   "name": "python",
   "nbconvert_exporter": "python",
   "pygments_lexer": "ipython3",
   "version": "3.9.0"
  }
 },
 "nbformat": 4,
 "nbformat_minor": 4
}
