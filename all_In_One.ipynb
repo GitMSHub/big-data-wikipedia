{
 "cells": [
  {
   "cell_type": "code",
   "execution_count": 1,
   "metadata": {},
   "outputs": [],
   "source": [
    "import findspark\n",
    "findspark.init()\n",
    "\n",
    "import pyspark # only run after findspark.init()\n",
    "from pyspark.sql import SparkSession\n",
    "import re\n",
    "import nltk\n",
    "from nltk.stem.porter import PorterStemmer\n",
    "from nltk.corpus import stopwords\n",
    "from nltk.tokenize import RegexpTokenizer\n",
    "import wikipedia\n",
    "import warnings\n",
    "warnings.filterwarnings(\"ignore\", category=DeprecationWarning)\n",
    "from pyspark.mllib.linalg import Vector, Vectors\n",
    "from pyspark.ml.feature import CountVectorizer, IDF\n",
    "from pyspark.sql import SQLContext\n",
    "from pyspark.ml.clustering import LDA\n",
    "\n",
    "spark = SparkSession.builder.getOrCreate()\n",
    "sc = spark.sparkContext\n",
    "sqlContext = SQLContext(sc)\n",
    "\n",
    "def get_title(content):\n",
    "    # Remove any leading or lagging space if present \n",
    "    content = content.strip()\n",
    "    title = ''\n",
    "    try:\n",
    "        if(content != ''):\n",
    "            # Split the content on the basis of new line\n",
    "            arr = content.split(\"\\n\",2)\n",
    "            # Second line is the title\n",
    "            title = arr[1]\n",
    "            # Rest is the actual content\n",
    "            actual_content = arr[2]\n",
    "    except:\n",
    "        title = 'error'\n",
    "    return title\n",
    "\n",
    "def get_content(content):\n",
    "    # Remove any leading or lagging space if present \n",
    "    content = content.strip()\n",
    "    actual_content = ''\n",
    "    try:\n",
    "        if(content != ''):\n",
    "            # Split the content on the basis of new line\n",
    "            arr = content.split(\"\\n\",2)\n",
    "            # Second line is the title\n",
    "            title = arr[1]\n",
    "            # Rest is the actual content\n",
    "            actual_content = arr[2]\n",
    "    except:\n",
    "        actual_content = 'error'\n",
    "    return actual_content\n",
    "\n",
    "def check_if_person(content):\n",
    "    content = content[:150]\n",
    "    list1 = re.findall(r\"[\\d]{1,2} [ADFJMNOS]\\w* [\\d]{4}\", content)\n",
    "    list2 = re.findall(r\"[ADFJMNOS]\\w* [\\d]{1,2}[,] [\\d]{4}\", content)\n",
    "    if(len(list1)>0 or len(list2)>0):\n",
    "        return True\n",
    "    return False\n",
    "\n",
    "def clean(article):\n",
    "    title = article[0]\n",
    "    document = article[1]\n",
    "    tokens = RegexpTokenizer(r'\\w+').tokenize(document.lower())\n",
    "    tokens_clean = [token for token in tokens if token not in stopwords.words('english')]\n",
    "    tokens_stemmed = [PorterStemmer().stem(token) for token in tokens_clean]\n",
    "    return (title, tokens_stemmed)"
   ]
  },
  {
   "cell_type": "code",
   "execution_count": 2,
   "metadata": {},
   "outputs": [
    {
     "data": {
      "text/html": [
       "\n",
       "            <div>\n",
       "                <p><b>SparkSession - in-memory</b></p>\n",
       "                \n",
       "        <div>\n",
       "            <p><b>SparkContext</b></p>\n",
       "\n",
       "            <p><a href=\"http://localhost:4040\">Spark UI</a></p>\n",
       "\n",
       "            <dl>\n",
       "              <dt>Version</dt>\n",
       "                <dd><code>v3.0.1</code></dd>\n",
       "              <dt>Master</dt>\n",
       "                <dd><code>local[*]</code></dd>\n",
       "              <dt>AppName</dt>\n",
       "                <dd><code>pyspark-shell</code></dd>\n",
       "            </dl>\n",
       "        </div>\n",
       "        \n",
       "            </div>\n",
       "        "
      ],
      "text/plain": [
       "<pyspark.sql.session.SparkSession at 0x7fabae341ee0>"
      ]
     },
     "execution_count": 2,
     "metadata": {},
     "output_type": "execute_result"
    }
   ],
   "source": [
    "spark"
   ]
  },
  {
   "cell_type": "code",
   "execution_count": 3,
   "metadata": {},
   "outputs": [],
   "source": [
    "data = sc.wholeTextFiles(\"C:/Users/Alina/Big Data/Wikipedia Exports/cars/*/*\")\n",
    "#data = sc.wholeTextFiles(\"C:/Users/Alina/Big Data/Wikipedia Exports/42_articles/*/*\")\n",
    "#data = sc.wholeTextFiles(\"C:/Users/Alina/Big Data/Wikipedia Exports/metadaten_test1/*/*\")\n",
    "\n",
    "pagesRaw = data.flatMap(lambda x :(x[1].split('</doc>')))\n",
    "pagesTitleContent = pagesRaw.map(lambda x : (get_title(x),get_content(x)))\n",
    "cleanedPages = pagesTitleContent.map(lambda x : clean(x))\n",
    "article_contents = cleanedPages.map(lambda x: x[1]).zipWithIndex()\n",
    "#article_contents = sc.parallelize(article_contents.take(14))\n",
    "#list_of_words = article_contents.flatMap(lambda x: x).zipWithIndex()"
   ]
  },
  {
   "cell_type": "code",
   "execution_count": 12,
   "metadata": {},
   "outputs": [
    {
     "data": {
      "text/plain": [
       "['Audi',\n",
       " 'BMW',\n",
       " 'Opel',\n",
       " 'Mercedes-Benz',\n",
       " 'Human',\n",
       " 'Nature',\n",
       " 'Chair',\n",
       " 'Table',\n",
       " 'Plant',\n",
       " 'Window',\n",
       " 'Notebook',\n",
       " 'BYD',\n",
       " 'Volvo',\n",
       " 'Škoda Auto',\n",
       " '']"
      ]
     },
     "execution_count": 12,
     "metadata": {},
     "output_type": "execute_result"
    }
   ],
   "source": [
    "cleanedPagesTitles = cleanedPages.map(lambda x: x[0])\n",
    "cleanedPagesTitles.collect()\n",
    "#cleanedPagesTitles.count()"
   ]
  },
  {
   "cell_type": "code",
   "execution_count": 13,
   "metadata": {},
   "outputs": [],
   "source": [
    "df_txts  = sqlContext.createDataFrame(article_contents, [\"list_of_words\",'index'])\n",
    "\n",
    "# TF\n",
    "cv = CountVectorizer(inputCol=\"list_of_words\", outputCol=\"features\", vocabSize=5000, minDF=10.0)\n",
    "cvmodel = cv.fit(df_txts)\n",
    "result_cv = cvmodel.transform(df_txts)\n",
    "\n",
    "# IDF\n",
    "#idf = IDF(inputCol=\"raw_features\", outputCol=\"features\")\n",
    "#idfModel = idf.fit(result_cv)\n",
    "#result_tfidf = idfModel.transform(result_cv) \n",
    "#result_tfidf.select(\"features\").take(1)"
   ]
  },
  {
   "cell_type": "code",
   "execution_count": 14,
   "metadata": {},
   "outputs": [
    {
     "name": "stdout",
     "output_type": "stream",
     "text": [
      "+--------------------+-----+--------------------+\n",
      "|       list_of_words|index|            features|\n",
      "+--------------------+-----+--------------------+\n",
      "|[audi, ag, german...|    0|(75,[0,1,2,3,4,5,...|\n",
      "|[bayerisch, motor...|    1|(75,[0,1,2,3,4,5,...|\n",
      "|[opel, automobil,...|    2|(75,[0,1,2,3,4,5,...|\n",
      "|[merced, benz, ge...|    3|(75,[0,1,2,3,4,5,...|\n",
      "|[human, homo, sap...|    4|(75,[0,1,2,3,4,5,...|\n",
      "|[natur, broadest,...|    5|(75,[0,1,2,3,4,5,...|\n",
      "|[one, basic, piec...|    6|(75,[0,1,2,3,4,7,...|\n",
      "|  [tabl, may, refer]|    7|(75,[12,67],[1.0,...|\n",
      "|[plant, mainli, m...|    8|(75,[0,1,2,3,4,5,...|\n",
      "|[window, open, wa...|    9|(75,[0,1,2,4,5,6,...|\n",
      "|[notebook, also, ...|   10|(75,[0,1,2,3,4,10...|\n",
      "|[byd, byd, may, r...|   11|(75,[12,67],[1.0,...|\n",
      "|[volvo, group, le...|   12|(75,[0,1,2,3,4,5,...|\n",
      "|[škoda, auto, com...|   13|(75,[0,1,2,3,4,5,...|\n",
      "|                  []|   14|          (75,[],[])|\n",
      "+--------------------+-----+--------------------+\n",
      "\n"
     ]
    }
   ],
   "source": [
    "result_cv.show()"
   ]
  },
  {
   "cell_type": "code",
   "execution_count": 15,
   "metadata": {},
   "outputs": [],
   "source": [
    "lda = LDA(k=3, maxIter=15)\n",
    "model = lda.fit(result_cv)"
   ]
  },
  {
   "cell_type": "code",
   "execution_count": 16,
   "metadata": {},
   "outputs": [
    {
     "data": {
      "text/plain": [
       "[['introduc',\n",
       "  'becam',\n",
       "  'system',\n",
       "  'also',\n",
       "  'differ',\n",
       "  'remain',\n",
       "  'small',\n",
       "  'record',\n",
       "  'call',\n",
       "  'form'],\n",
       " ['year',\n",
       "  'use',\n",
       "  'also',\n",
       "  'first',\n",
       "  'develop',\n",
       "  'two',\n",
       "  'gener',\n",
       "  'group',\n",
       "  'includ',\n",
       "  'new'],\n",
       " ['gener',\n",
       "  'name',\n",
       "  'first',\n",
       "  'manufactur',\n",
       "  '1',\n",
       "  'also',\n",
       "  'new',\n",
       "  '2',\n",
       "  'product',\n",
       "  'produc']]"
      ]
     },
     "execution_count": 16,
     "metadata": {},
     "output_type": "execute_result"
    }
   ],
   "source": [
    "vocab = cvmodel.vocabulary\n",
    "topics = model.describeTopics()\n",
    "topicsRdd = topics.rdd\n",
    "topics_words = topicsRdd.map(lambda row: row['termIndices']).map(lambda idx_list: [vocab[idx] for idx in idx_list]).collect()\n",
    "topics_words"
   ]
  },
  {
   "cell_type": "code",
   "execution_count": 8,
   "metadata": {},
   "outputs": [],
   "source": [
    "article_title = \"Lamborghini\"\n",
    "#article_title = \"Car\"\n",
    "article_content_test = clean([article_title, wikipedia.page(article_title).content])[1]"
   ]
  },
  {
   "cell_type": "code",
   "execution_count": 9,
   "metadata": {},
   "outputs": [],
   "source": [
    "article_content_test_rdd = sc.parallelize([article_content_test]).zipWithIndex()\n",
    "df_txts_test  = sqlContext.createDataFrame(article_content_test_rdd, [\"list_of_words\",'index'])\n",
    "\n",
    "# TF\n",
    "cv_test = CountVectorizer(inputCol=\"list_of_words\", outputCol=\"features\", vocabSize=50, minDF=1.0)\n",
    "cvmodel_test = cv_test.fit(df_txts_test)\n",
    "result_cv_test = cvmodel_test.transform(df_txts_test)"
   ]
  },
  {
   "cell_type": "code",
   "execution_count": 10,
   "metadata": {},
   "outputs": [
    {
     "name": "stdout",
     "output_type": "stream",
     "text": [
      "+--------------------+-----+--------------------+\n",
      "|       list_of_words|index|            features|\n",
      "+--------------------+-----+--------------------+\n",
      "|[automobili, lamb...|    0|(50,[0,1,2,3,4,5,...|\n",
      "+--------------------+-----+--------------------+\n",
      "\n"
     ]
    }
   ],
   "source": [
    "result_cv_test.show()"
   ]
  },
  {
   "cell_type": "code",
   "execution_count": 17,
   "metadata": {},
   "outputs": [
    {
     "name": "stdout",
     "output_type": "stream",
     "text": [
      "The lower bound on the log likelihood of the entire corpus: -3990.358669491167\n",
      "The upper bound on perplexity: 4.118017202777262\n"
     ]
    }
   ],
   "source": [
    "ll = model.logLikelihood(result_cv_test)\n",
    "lp = model.logPerplexity(result_cv_test)\n",
    "print(\"The lower bound on the log likelihood of the entire corpus: \" + str(ll))\n",
    "print(\"The upper bound on perplexity: \" + str(lp))"
   ]
  },
  {
   "cell_type": "code",
   "execution_count": null,
   "metadata": {},
   "outputs": [],
   "source": []
  }
 ],
 "metadata": {
  "kernelspec": {
   "display_name": "Python 3",
   "language": "python",
   "name": "python3"
  },
  "language_info": {
   "codemirror_mode": {
    "name": "ipython",
    "version": 3
   },
   "file_extension": ".py",
   "mimetype": "text/x-python",
   "name": "python",
   "nbconvert_exporter": "python",
   "pygments_lexer": "ipython3",
   "version": "3.9.0"
  }
 },
 "nbformat": 4,
 "nbformat_minor": 4
}
